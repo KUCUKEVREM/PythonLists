{
 "cells": [
  {
   "cell_type": "code",
   "execution_count": 1,
   "id": "b48cfc1c",
   "metadata": {},
   "outputs": [],
   "source": [
    "benim_string = \"merve simsek\""
   ]
  },
  {
   "cell_type": "code",
   "execution_count": 2,
   "id": "5e9825b3",
   "metadata": {},
   "outputs": [
    {
     "data": {
      "text/plain": [
       "'m'"
      ]
     },
     "execution_count": 2,
     "metadata": {},
     "output_type": "execute_result"
    }
   ],
   "source": [
    "benim_string[0]"
   ]
  },
  {
   "cell_type": "code",
   "execution_count": 5,
   "id": "401879e7",
   "metadata": {},
   "outputs": [],
   "source": [
    "#immutability, immutable, mutable"
   ]
  },
  {
   "cell_type": "code",
   "execution_count": 6,
   "id": "5f8ccc3d",
   "metadata": {},
   "outputs": [],
   "source": [
    "benim_listem = [10,20,30,40,50]"
   ]
  },
  {
   "cell_type": "code",
   "execution_count": 7,
   "id": "1f2509c7",
   "metadata": {},
   "outputs": [
    {
     "data": {
      "text/plain": [
       "list"
      ]
     },
     "execution_count": 7,
     "metadata": {},
     "output_type": "execute_result"
    }
   ],
   "source": [
    "type(benim_listem)"
   ]
  },
  {
   "cell_type": "code",
   "execution_count": 8,
   "id": "a4e8e53c",
   "metadata": {
    "scrolled": true
   },
   "outputs": [
    {
     "data": {
      "text/plain": [
       "10"
      ]
     },
     "execution_count": 8,
     "metadata": {},
     "output_type": "execute_result"
    }
   ],
   "source": [
    "benim_listem[0]"
   ]
  },
  {
   "cell_type": "code",
   "execution_count": 9,
   "id": "63f080a5",
   "metadata": {},
   "outputs": [
    {
     "data": {
      "text/plain": [
       "40"
      ]
     },
     "execution_count": 9,
     "metadata": {},
     "output_type": "execute_result"
    }
   ],
   "source": [
    "benim_listem[3]"
   ]
  },
  {
   "cell_type": "code",
   "execution_count": 10,
   "id": "b1492776",
   "metadata": {},
   "outputs": [],
   "source": [
    "benim_listem[1] =100"
   ]
  },
  {
   "cell_type": "code",
   "execution_count": 11,
   "id": "621a06fa",
   "metadata": {},
   "outputs": [
    {
     "data": {
      "text/plain": [
       "[10, 100, 30, 40, 50]"
      ]
     },
     "execution_count": 11,
     "metadata": {},
     "output_type": "execute_result"
    }
   ],
   "source": [
    "benim_listem"
   ]
  },
  {
   "cell_type": "code",
   "execution_count": 12,
   "id": "e2dff925",
   "metadata": {},
   "outputs": [],
   "source": [
    "x = 10\n",
    "y = 20"
   ]
  },
  {
   "cell_type": "code",
   "execution_count": 13,
   "id": "eefeabd3",
   "metadata": {},
   "outputs": [],
   "source": [
    "numara_listem = [x,y]"
   ]
  },
  {
   "cell_type": "code",
   "execution_count": 14,
   "id": "d9fca7a4",
   "metadata": {},
   "outputs": [
    {
     "data": {
      "text/plain": [
       "[10, 20]"
      ]
     },
     "execution_count": 14,
     "metadata": {},
     "output_type": "execute_result"
    }
   ],
   "source": [
    "numara_listem"
   ]
  },
  {
   "cell_type": "code",
   "execution_count": 15,
   "id": "69a7e71d",
   "metadata": {},
   "outputs": [
    {
     "data": {
      "text/plain": [
       "30"
      ]
     },
     "execution_count": 15,
     "metadata": {},
     "output_type": "execute_result"
    }
   ],
   "source": [
    "numara_listem[0] * 3"
   ]
  },
  {
   "cell_type": "code",
   "execution_count": 16,
   "id": "10a7b81e",
   "metadata": {},
   "outputs": [
    {
     "data": {
      "text/plain": [
       "int"
      ]
     },
     "execution_count": 16,
     "metadata": {},
     "output_type": "execute_result"
    }
   ],
   "source": [
    "type(numara_listem[0])"
   ]
  },
  {
   "cell_type": "code",
   "execution_count": 17,
   "id": "bc1492a9",
   "metadata": {},
   "outputs": [],
   "source": [
    "numara_listem.sort()"
   ]
  },
  {
   "cell_type": "code",
   "execution_count": 18,
   "id": "9f48ce49",
   "metadata": {},
   "outputs": [],
   "source": [
    "numara_listem.append(30)"
   ]
  },
  {
   "cell_type": "code",
   "execution_count": 19,
   "id": "949aed50",
   "metadata": {},
   "outputs": [
    {
     "data": {
      "text/plain": [
       "[10, 20, 30]"
      ]
     },
     "execution_count": 19,
     "metadata": {},
     "output_type": "execute_result"
    }
   ],
   "source": [
    "numara_listem"
   ]
  },
  {
   "cell_type": "code",
   "execution_count": 21,
   "id": "877a5289",
   "metadata": {},
   "outputs": [
    {
     "data": {
      "text/plain": [
       "3"
      ]
     },
     "execution_count": 21,
     "metadata": {},
     "output_type": "execute_result"
    }
   ],
   "source": [
    "len(numara_listem)"
   ]
  },
  {
   "cell_type": "code",
   "execution_count": 22,
   "id": "a367fc1a",
   "metadata": {},
   "outputs": [
    {
     "data": {
      "text/plain": [
       "1"
      ]
     },
     "execution_count": 22,
     "metadata": {},
     "output_type": "execute_result"
    }
   ],
   "source": [
    "numara_listem.count(10)"
   ]
  },
  {
   "cell_type": "code",
   "execution_count": 23,
   "id": "e05fe076",
   "metadata": {},
   "outputs": [
    {
     "data": {
      "text/plain": [
       "30"
      ]
     },
     "execution_count": 23,
     "metadata": {},
     "output_type": "execute_result"
    }
   ],
   "source": [
    "numara_listem.pop()"
   ]
  },
  {
   "cell_type": "code",
   "execution_count": 24,
   "id": "0c3af8dd",
   "metadata": {},
   "outputs": [
    {
     "data": {
      "text/plain": [
       "[10, 20]"
      ]
     },
     "execution_count": 24,
     "metadata": {},
     "output_type": "execute_result"
    }
   ],
   "source": [
    "numara_listem"
   ]
  },
  {
   "cell_type": "code",
   "execution_count": 25,
   "id": "120c0b82",
   "metadata": {},
   "outputs": [],
   "source": [
    "numara_listem.reverse()"
   ]
  },
  {
   "cell_type": "code",
   "execution_count": 26,
   "id": "9be02053",
   "metadata": {},
   "outputs": [
    {
     "data": {
      "text/plain": [
       "[20, 10]"
      ]
     },
     "execution_count": 26,
     "metadata": {},
     "output_type": "execute_result"
    }
   ],
   "source": [
    "numara_listem"
   ]
  },
  {
   "cell_type": "code",
   "execution_count": 27,
   "id": "43e6140f",
   "metadata": {},
   "outputs": [],
   "source": [
    "numara_listem.sort()"
   ]
  },
  {
   "cell_type": "code",
   "execution_count": 28,
   "id": "de59c376",
   "metadata": {},
   "outputs": [
    {
     "data": {
      "text/plain": [
       "[10, 20]"
      ]
     },
     "execution_count": 28,
     "metadata": {},
     "output_type": "execute_result"
    }
   ],
   "source": [
    "numara_listem"
   ]
  },
  {
   "cell_type": "code",
   "execution_count": 29,
   "id": "65c51f01",
   "metadata": {},
   "outputs": [],
   "source": [
    "numara_listem.remove(10)"
   ]
  },
  {
   "cell_type": "code",
   "execution_count": 30,
   "id": "b5504833",
   "metadata": {},
   "outputs": [
    {
     "data": {
      "text/plain": [
       "[20]"
      ]
     },
     "execution_count": 30,
     "metadata": {},
     "output_type": "execute_result"
    }
   ],
   "source": [
    "numara_listem"
   ]
  },
  {
   "cell_type": "code",
   "execution_count": 31,
   "id": "eed108f8",
   "metadata": {},
   "outputs": [],
   "source": [
    "listem = [\"merve\", \"ali\", \"sare\" ]"
   ]
  },
  {
   "cell_type": "code",
   "execution_count": 32,
   "id": "3ce67c40",
   "metadata": {},
   "outputs": [
    {
     "data": {
      "text/plain": [
       "list"
      ]
     },
     "execution_count": 32,
     "metadata": {},
     "output_type": "execute_result"
    }
   ],
   "source": [
    "type(listem)"
   ]
  },
  {
   "cell_type": "code",
   "execution_count": 33,
   "id": "5846eb48",
   "metadata": {},
   "outputs": [],
   "source": [
    "listem.append(\"mert\")"
   ]
  },
  {
   "cell_type": "code",
   "execution_count": 34,
   "id": "e25ca872",
   "metadata": {},
   "outputs": [
    {
     "data": {
      "text/plain": [
       "['merve', 'ali', 'sare', 'mert']"
      ]
     },
     "execution_count": 34,
     "metadata": {},
     "output_type": "execute_result"
    }
   ],
   "source": [
    "listem"
   ]
  },
  {
   "cell_type": "code",
   "execution_count": 35,
   "id": "a2da32be",
   "metadata": {},
   "outputs": [],
   "source": [
    "liste2 = [\"tugba\", \"nur\", \"emine\"]"
   ]
  },
  {
   "cell_type": "code",
   "execution_count": 36,
   "id": "c65a7ba2",
   "metadata": {},
   "outputs": [],
   "source": [
    "liste_toplama = listem + liste2"
   ]
  },
  {
   "cell_type": "code",
   "execution_count": 37,
   "id": "64b089c8",
   "metadata": {},
   "outputs": [
    {
     "data": {
      "text/plain": [
       "['merve', 'ali', 'sare', 'mert', 'tugba', 'nur', 'emine']"
      ]
     },
     "execution_count": 37,
     "metadata": {},
     "output_type": "execute_result"
    }
   ],
   "source": [
    "liste_toplama"
   ]
  },
  {
   "cell_type": "code",
   "execution_count": 38,
   "id": "c4da5915",
   "metadata": {},
   "outputs": [],
   "source": [
    "liste_toplama.sort()"
   ]
  },
  {
   "cell_type": "code",
   "execution_count": 39,
   "id": "74b41484",
   "metadata": {},
   "outputs": [
    {
     "data": {
      "text/plain": [
       "['ali', 'emine', 'mert', 'merve', 'nur', 'sare', 'tugba']"
      ]
     },
     "execution_count": 39,
     "metadata": {},
     "output_type": "execute_result"
    }
   ],
   "source": [
    "liste_toplama"
   ]
  },
  {
   "cell_type": "code",
   "execution_count": 40,
   "id": "63954e96",
   "metadata": {},
   "outputs": [],
   "source": [
    "karisik_liste = [1, 100, \"atıl\", 10.4, 3.145]\n"
   ]
  },
  {
   "cell_type": "code",
   "execution_count": 41,
   "id": "f9a80812",
   "metadata": {},
   "outputs": [
    {
     "data": {
      "text/plain": [
       "list"
      ]
     },
     "execution_count": 41,
     "metadata": {},
     "output_type": "execute_result"
    }
   ],
   "source": [
    "type(karisik_liste)"
   ]
  },
  {
   "cell_type": "code",
   "execution_count": 42,
   "id": "394d25bb",
   "metadata": {},
   "outputs": [
    {
     "data": {
      "text/plain": [
       "'atıl'"
      ]
     },
     "execution_count": 42,
     "metadata": {},
     "output_type": "execute_result"
    }
   ],
   "source": [
    "karisik_liste[2]"
   ]
  },
  {
   "cell_type": "code",
   "execution_count": 43,
   "id": "d5dbca21",
   "metadata": {},
   "outputs": [
    {
     "ename": "TypeError",
     "evalue": "'<' not supported between instances of 'str' and 'int'",
     "output_type": "error",
     "traceback": [
      "\u001b[1;31m---------------------------------------------------------------------------\u001b[0m",
      "\u001b[1;31mTypeError\u001b[0m                                 Traceback (most recent call last)",
      "Input \u001b[1;32mIn [43]\u001b[0m, in \u001b[0;36m<cell line: 1>\u001b[1;34m()\u001b[0m\n\u001b[1;32m----> 1\u001b[0m \u001b[43mkarisik_liste\u001b[49m\u001b[38;5;241;43m.\u001b[39;49m\u001b[43msort\u001b[49m\u001b[43m(\u001b[49m\u001b[43m)\u001b[49m\n",
      "\u001b[1;31mTypeError\u001b[0m: '<' not supported between instances of 'str' and 'int'"
     ]
    }
   ],
   "source": [
    "karisik_liste.sort()"
   ]
  },
  {
   "cell_type": "code",
   "execution_count": 44,
   "id": "b09f92f8",
   "metadata": {},
   "outputs": [],
   "source": [
    "karisik_liste.reverse()"
   ]
  },
  {
   "cell_type": "code",
   "execution_count": 45,
   "id": "1a662671",
   "metadata": {},
   "outputs": [
    {
     "data": {
      "text/plain": [
       "[3.145, 10.4, 'atıl', 100, 1]"
      ]
     },
     "execution_count": 45,
     "metadata": {},
     "output_type": "execute_result"
    }
   ],
   "source": [
    "karisik_liste"
   ]
  },
  {
   "cell_type": "code",
   "execution_count": 46,
   "id": "2231f0c2",
   "metadata": {},
   "outputs": [],
   "source": [
    "ilk_eleman = karisik_liste[0]"
   ]
  },
  {
   "cell_type": "code",
   "execution_count": 47,
   "id": "25f0ee7c",
   "metadata": {},
   "outputs": [
    {
     "data": {
      "text/plain": [
       "float"
      ]
     },
     "execution_count": 47,
     "metadata": {},
     "output_type": "execute_result"
    }
   ],
   "source": [
    "type(ilk_eleman)"
   ]
  },
  {
   "cell_type": "code",
   "execution_count": 48,
   "id": "9c3b5f4d",
   "metadata": {},
   "outputs": [],
   "source": [
    "ucuncu_eleman = karisik_liste[2]"
   ]
  },
  {
   "cell_type": "code",
   "execution_count": 49,
   "id": "217b8cb3",
   "metadata": {},
   "outputs": [
    {
     "data": {
      "text/plain": [
       "str"
      ]
     },
     "execution_count": 49,
     "metadata": {},
     "output_type": "execute_result"
    }
   ],
   "source": [
    "type(ucuncu_eleman)"
   ]
  },
  {
   "cell_type": "code",
   "execution_count": 50,
   "id": "582a6992",
   "metadata": {},
   "outputs": [],
   "source": [
    "#nested list -- iç içe geçmiş liste"
   ]
  },
  {
   "cell_type": "code",
   "execution_count": 51,
   "id": "6020a39f",
   "metadata": {},
   "outputs": [],
   "source": [
    "nested = [1, 10, \"atıl\", [10,20,30,40],[\"a\",\"b\"]]"
   ]
  },
  {
   "cell_type": "code",
   "execution_count": 55,
   "id": "8ba9f531",
   "metadata": {},
   "outputs": [
    {
     "data": {
      "text/plain": [
       "'b'"
      ]
     },
     "execution_count": 55,
     "metadata": {},
     "output_type": "execute_result"
    }
   ],
   "source": [
    "nested[4][1]"
   ]
  },
  {
   "cell_type": "code",
   "execution_count": 57,
   "id": "dc11149d",
   "metadata": {},
   "outputs": [
    {
     "data": {
      "text/plain": [
       "30"
      ]
     },
     "execution_count": 57,
     "metadata": {},
     "output_type": "execute_result"
    }
   ],
   "source": [
    "nested[3][2]"
   ]
  },
  {
   "cell_type": "code",
   "execution_count": 58,
   "id": "e9f44913",
   "metadata": {},
   "outputs": [],
   "source": [
    "#slicing"
   ]
  },
  {
   "cell_type": "code",
   "execution_count": 59,
   "id": "6e3f01ad",
   "metadata": {},
   "outputs": [],
   "source": [
    "numaralar = [0,1,2,3,4,5,6,7,8,9]"
   ]
  },
  {
   "cell_type": "code",
   "execution_count": 60,
   "id": "64e9d890",
   "metadata": {},
   "outputs": [
    {
     "data": {
      "text/plain": [
       "[3, 4, 5, 6, 7]"
      ]
     },
     "execution_count": 60,
     "metadata": {},
     "output_type": "execute_result"
    }
   ],
   "source": [
    "numaralar[3:8]"
   ]
  },
  {
   "cell_type": "code",
   "execution_count": 61,
   "id": "7ef9fcc7",
   "metadata": {},
   "outputs": [
    {
     "data": {
      "text/plain": [
       "[0, 3, 6, 9]"
      ]
     },
     "execution_count": 61,
     "metadata": {},
     "output_type": "execute_result"
    }
   ],
   "source": [
    "numaralar[::3]"
   ]
  },
  {
   "cell_type": "code",
   "execution_count": null,
   "id": "50addf35",
   "metadata": {},
   "outputs": [],
   "source": []
  }
 ],
 "metadata": {
  "kernelspec": {
   "display_name": "Python 3 (ipykernel)",
   "language": "python",
   "name": "python3"
  },
  "language_info": {
   "codemirror_mode": {
    "name": "ipython",
    "version": 3
   },
   "file_extension": ".py",
   "mimetype": "text/x-python",
   "name": "python",
   "nbconvert_exporter": "python",
   "pygments_lexer": "ipython3",
   "version": "3.9.12"
  }
 },
 "nbformat": 4,
 "nbformat_minor": 5
}
